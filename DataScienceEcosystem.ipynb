{
 "cells": [
  {
   "cell_type": "markdown",
   "id": "b944ac2f",
   "metadata": {},
   "source": [
    "# Data Science Tools and Ecosystem"
   ]
  },
  {
   "cell_type": "markdown",
   "id": "304e37a8",
   "metadata": {},
   "source": [
    "In this notebook, Data Science Tools and Ecosystem are summarized."
   ]
  },
  {
   "cell_type": "markdown",
   "id": "9aecbe4c",
   "metadata": {},
   "source": [
    "**Objectives:**\n",
    "- Popular languages for Data Science\n",
    "- Popular libraries for Data Science\n",
    "- Popular tools (opensource, commercial, cloud based) for Data Science\n",
    "- APIs"
   ]
  },
  {
   "cell_type": "markdown",
   "id": "60e8f215",
   "metadata": {},
   "source": [
    "## Author\n",
    "Kiryl Kachura"
   ]
  },
  {
   "cell_type": "markdown",
   "id": "1ed6b016",
   "metadata": {},
   "source": [
    "Some of the popular languages that Data Scientists use are:\n",
    "1. Python\n",
    "2. R\n",
    "3. Julia\n",
    "4. Scala"
   ]
  },
  {
   "cell_type": "markdown",
   "id": "4221f1fe",
   "metadata": {},
   "source": [
    "Some of the commonly used libraries used by Data Scientists include:\n",
    "1. Pandas\n",
    "2. Numpy\n",
    "3. Matplotlib\n",
    "4. Plotly\n",
    "5. Seaborn\n",
    "6. Keras\n",
    "7. Scikit-learn\n",
    "8. Tensorflow\n",
    "9. PyTorch"
   ]
  },
  {
   "cell_type": "markdown",
   "id": "9a7b14f2",
   "metadata": {},
   "source": [
    "|Data Science Tools |\n",
    "-----------------------\n",
    "|Jupyter Notebook |\n",
    "|Jupyter Lab |\n",
    "|Apache Zeppelin |\n",
    "|R Studio |\n",
    "|Spyder |"
   ]
  },
  {
   "cell_type": "markdown",
   "id": "afbc226e",
   "metadata": {},
   "source": [
    "### Below are a few examples of evaluating arithmetic expressions in Python\n",
    "- 4+5\n",
    "- 4-5\n",
    "- 4*5\n",
    "- 4/5"
   ]
  },
  {
   "cell_type": "code",
   "execution_count": 2,
   "id": "b06b046c",
   "metadata": {},
   "outputs": [
    {
     "data": {
      "text/plain": [
       "17"
      ]
     },
     "execution_count": 2,
     "metadata": {},
     "output_type": "execute_result"
    }
   ],
   "source": [
    "# This a simple arithmetic expression to mutiply then add integers\n",
    "(3*4)+5"
   ]
  },
  {
   "cell_type": "code",
   "execution_count": 10,
   "id": "b56ac589",
   "metadata": {},
   "outputs": [
    {
     "name": "stdout",
     "output_type": "stream",
     "text": [
      "The result is 3 hours and 20 minutes\n"
     ]
    }
   ],
   "source": [
    "# This will convert 200 minutes to hours by diving by 60\n",
    "print(f'The result is {200//60} hours and {200%60} minutes')"
   ]
  },
  {
   "cell_type": "code",
   "execution_count": null,
   "id": "0b9e99a5",
   "metadata": {},
   "outputs": [],
   "source": []
  },
  {
   "cell_type": "code",
   "execution_count": null,
   "id": "cbc78350",
   "metadata": {},
   "outputs": [],
   "source": []
  },
  {
   "cell_type": "code",
   "execution_count": null,
   "id": "13050d02",
   "metadata": {},
   "outputs": [],
   "source": []
  }
 ],
 "metadata": {
  "kernelspec": {
   "display_name": "Python 3 (ipykernel)",
   "language": "python",
   "name": "python3"
  },
  "language_info": {
   "codemirror_mode": {
    "name": "ipython",
    "version": 3
   },
   "file_extension": ".py",
   "mimetype": "text/x-python",
   "name": "python",
   "nbconvert_exporter": "python",
   "pygments_lexer": "ipython3",
   "version": "3.10.8"
  }
 },
 "nbformat": 4,
 "nbformat_minor": 5
}
